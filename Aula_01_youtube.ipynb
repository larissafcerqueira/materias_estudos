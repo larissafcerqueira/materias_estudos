{
  "nbformat": 4,
  "nbformat_minor": 0,
  "metadata": {
    "colab": {
      "provenance": [],
      "include_colab_link": true
    },
    "kernelspec": {
      "name": "python3",
      "display_name": "Python 3"
    },
    "language_info": {
      "name": "python"
    }
  },
  "cells": [
    {
      "cell_type": "markdown",
      "metadata": {
        "id": "view-in-github",
        "colab_type": "text"
      },
      "source": [
        "<a href=\"https://colab.research.google.com/github/larissafcerqueira/soulcode/blob/main/Aula_01_youtube.ipynb\" target=\"_parent\"><img src=\"https://colab.research.google.com/assets/colab-badge.svg\" alt=\"Open In Colab\"/></a>"
      ]
    },
    {
      "cell_type": "markdown",
      "source": [
        "# 1 - Variáveis e tipos de dados"
      ],
      "metadata": {
        "id": "sKMIxR9e8AQj"
      }
    },
    {
      "cell_type": "code",
      "execution_count": null,
      "metadata": {
        "id": "sskBMjAH6e0w"
      },
      "outputs": [],
      "source": [
        "# Variáveis\n",
        "nome = 'Douglas'"
      ]
    },
    {
      "cell_type": "code",
      "source": [
        "print(nome)"
      ],
      "metadata": {
        "colab": {
          "base_uri": "https://localhost:8080/"
        },
        "id": "rbpkja5u8_2V",
        "outputId": "3217e2f7-4f48-42a4-a59a-c41a81807ee8"
      },
      "execution_count": null,
      "outputs": [
        {
          "output_type": "stream",
          "name": "stdout",
          "text": [
            "Douglas\n"
          ]
        }
      ]
    },
    {
      "cell_type": "code",
      "source": [
        "type(nome)"
      ],
      "metadata": {
        "colab": {
          "base_uri": "https://localhost:8080/"
        },
        "id": "vqT-t4y89MNr",
        "outputId": "4ce514ee-013c-4265-c51e-8fb2e0be7fe5"
      },
      "execution_count": null,
      "outputs": [
        {
          "output_type": "execute_result",
          "data": {
            "text/plain": [
              "str"
            ]
          },
          "metadata": {},
          "execution_count": 3
        }
      ]
    },
    {
      "cell_type": "code",
      "source": [
        "idade = '48'"
      ],
      "metadata": {
        "id": "W62yN2h19nNZ"
      },
      "execution_count": null,
      "outputs": []
    },
    {
      "cell_type": "code",
      "source": [
        "print(idade)"
      ],
      "metadata": {
        "colab": {
          "base_uri": "https://localhost:8080/"
        },
        "id": "ZvvkPC5U92rR",
        "outputId": "59c861d2-9258-4bb2-9daf-c8893efef505"
      },
      "execution_count": null,
      "outputs": [
        {
          "output_type": "stream",
          "name": "stdout",
          "text": [
            "48\n"
          ]
        }
      ]
    },
    {
      "cell_type": "code",
      "source": [
        "type(idade)"
      ],
      "metadata": {
        "colab": {
          "base_uri": "https://localhost:8080/"
        },
        "id": "VMDxIVx29_Eb",
        "outputId": "05f90c00-8018-4820-cfc0-3d5add3bf149"
      },
      "execution_count": null,
      "outputs": [
        {
          "output_type": "execute_result",
          "data": {
            "text/plain": [
              "str"
            ]
          },
          "metadata": {},
          "execution_count": 12
        }
      ]
    },
    {
      "cell_type": "code",
      "source": [
        "idade = int(idade)"
      ],
      "metadata": {
        "id": "Ff7q4cXZ-Kwb"
      },
      "execution_count": null,
      "outputs": []
    },
    {
      "cell_type": "code",
      "source": [
        "type(idade)"
      ],
      "metadata": {
        "colab": {
          "base_uri": "https://localhost:8080/"
        },
        "id": "MZlnA3BX-Pnm",
        "outputId": "dcace50b-dd8c-4157-f229-611f8385dc07"
      },
      "execution_count": null,
      "outputs": [
        {
          "output_type": "execute_result",
          "data": {
            "text/plain": [
              "int"
            ]
          },
          "metadata": {},
          "execution_count": 14
        }
      ]
    },
    {
      "cell_type": "code",
      "source": [
        "altura = '1.85'"
      ],
      "metadata": {
        "id": "tXnnI7Ba-VgZ"
      },
      "execution_count": null,
      "outputs": []
    },
    {
      "cell_type": "code",
      "source": [
        "type(altura)"
      ],
      "metadata": {
        "colab": {
          "base_uri": "https://localhost:8080/"
        },
        "id": "dY1og_XW-a_o",
        "outputId": "2d86a42d-362d-472f-e0d6-be3569796279"
      },
      "execution_count": null,
      "outputs": [
        {
          "output_type": "execute_result",
          "data": {
            "text/plain": [
              "str"
            ]
          },
          "metadata": {},
          "execution_count": 18
        }
      ]
    },
    {
      "cell_type": "code",
      "source": [
        "altura = float(altura)"
      ],
      "metadata": {
        "id": "gmYuZM62-grt"
      },
      "execution_count": null,
      "outputs": []
    },
    {
      "cell_type": "code",
      "source": [
        "type(altura)"
      ],
      "metadata": {
        "colab": {
          "base_uri": "https://localhost:8080/"
        },
        "id": "n7E5wraG-kvM",
        "outputId": "44cfbd87-ab8e-4faa-bbad-b6ddbb9c4f50"
      },
      "execution_count": null,
      "outputs": [
        {
          "output_type": "execute_result",
          "data": {
            "text/plain": [
              "float"
            ]
          },
          "metadata": {},
          "execution_count": 20
        }
      ]
    },
    {
      "cell_type": "markdown",
      "source": [
        "# 2 - Operadores"
      ],
      "metadata": {
        "id": "UzwW4Rqp-qEd"
      }
    },
    {
      "cell_type": "code",
      "source": [
        "# soma (+) Exemplo 3 + 2\n",
        "\n",
        "soma = 3 + 2\n",
        "print(soma)"
      ],
      "metadata": {
        "colab": {
          "base_uri": "https://localhost:8080/"
        },
        "id": "7vhEU1Ja-wb4",
        "outputId": "570ba84b-1853-4216-f55d-248c6984ad6a"
      },
      "execution_count": null,
      "outputs": [
        {
          "output_type": "stream",
          "name": "stdout",
          "text": [
            "5\n"
          ]
        }
      ]
    },
    {
      "cell_type": "code",
      "source": [
        "# subtração (-) Exemplo 3 - 2\n",
        "\n",
        "sub = 3 - 2\n",
        "print(sub)"
      ],
      "metadata": {
        "colab": {
          "base_uri": "https://localhost:8080/"
        },
        "id": "QDZNrv2V_QNC",
        "outputId": "566ba177-050a-4b09-e56a-0cbbf007f4b3"
      },
      "execution_count": null,
      "outputs": [
        {
          "output_type": "stream",
          "name": "stdout",
          "text": [
            "1\n"
          ]
        }
      ]
    },
    {
      "cell_type": "code",
      "source": [
        "# Multiplicação (*) Exemplo 3 * 2\n",
        "\n",
        "mult = 3 * 2\n",
        "print(mult)"
      ],
      "metadata": {
        "colab": {
          "base_uri": "https://localhost:8080/"
        },
        "id": "zfN5lk08_dV3",
        "outputId": "8ea3d7e0-5bb8-4e89-a8f0-a17e727f944e"
      },
      "execution_count": null,
      "outputs": [
        {
          "output_type": "stream",
          "name": "stdout",
          "text": [
            "6\n"
          ]
        }
      ]
    },
    {
      "cell_type": "code",
      "source": [
        "# Divisão completa (/) Exemplo 3 / 2\n",
        "\n",
        "div = 3 / 2\n",
        "print(div)"
      ],
      "metadata": {
        "colab": {
          "base_uri": "https://localhost:8080/"
        },
        "id": "AEuObHfz_-Xc",
        "outputId": "38daa0a7-7648-47f4-a8bc-0b0aa18f7d5c"
      },
      "execution_count": null,
      "outputs": [
        {
          "output_type": "stream",
          "name": "stdout",
          "text": [
            "1.5\n"
          ]
        }
      ]
    },
    {
      "cell_type": "code",
      "source": [
        "# Parte inteira da divisão (//) Exemplo 3 // 2\n",
        "intdiv = 3 // 2\n",
        "print(intdiv)"
      ],
      "metadata": {
        "colab": {
          "base_uri": "https://localhost:8080/"
        },
        "id": "XlPFS2lgAtRp",
        "outputId": "c1d05944-5c0a-4686-c4a0-1b0158134324"
      },
      "execution_count": null,
      "outputs": [
        {
          "output_type": "stream",
          "name": "stdout",
          "text": [
            "1\n"
          ]
        }
      ]
    },
    {
      "cell_type": "code",
      "source": [
        "# Resto da divisão (%) Exemplo 3 % 2\n",
        "\n",
        "resto = 3 % 2\n",
        "print(resto)"
      ],
      "metadata": {
        "colab": {
          "base_uri": "https://localhost:8080/"
        },
        "id": "3MZFfhAYA6qv",
        "outputId": "5d689ee7-d76a-4a52-ab88-94fe212be36f"
      },
      "execution_count": null,
      "outputs": [
        {
          "output_type": "stream",
          "name": "stdout",
          "text": [
            "1\n"
          ]
        }
      ]
    },
    {
      "cell_type": "code",
      "source": [
        "# Potência (**) Exemplo 3 ** 2\n",
        "\n",
        "pot = 3 ** 2\n",
        "print(pot)"
      ],
      "metadata": {
        "colab": {
          "base_uri": "https://localhost:8080/"
        },
        "id": "hZOrpNDcBJmj",
        "outputId": "52989e79-d09f-45bb-f477-fb01cd4413bd"
      },
      "execution_count": null,
      "outputs": [
        {
          "output_type": "stream",
          "name": "stdout",
          "text": [
            "9\n"
          ]
        }
      ]
    },
    {
      "cell_type": "markdown",
      "source": [
        "# 3 - Entrada de dados definida pelo usuário"
      ],
      "metadata": {
        "id": "OLw1UNt_BmE_"
      }
    },
    {
      "cell_type": "code",
      "source": [
        "cliente = input('Informe seu nome: ')"
      ],
      "metadata": {
        "colab": {
          "base_uri": "https://localhost:8080/"
        },
        "id": "5_VyHGIRBk-x",
        "outputId": "4f19f682-2ecd-41a3-e93d-98253f566ac6"
      },
      "execution_count": null,
      "outputs": [
        {
          "name": "stdout",
          "output_type": "stream",
          "text": [
            "Informe seu nome: Douglas\n"
          ]
        }
      ]
    },
    {
      "cell_type": "code",
      "source": [
        "print(cliente)"
      ],
      "metadata": {
        "colab": {
          "base_uri": "https://localhost:8080/"
        },
        "id": "pFlU5l38B2db",
        "outputId": "3cc413f3-4f24-43be-b6c5-82780ba33346"
      },
      "execution_count": null,
      "outputs": [
        {
          "output_type": "stream",
          "name": "stdout",
          "text": [
            "Douglas\n"
          ]
        }
      ]
    },
    {
      "cell_type": "code",
      "source": [
        "peso = float(input('Informe seu peso em Kg: '))"
      ],
      "metadata": {
        "colab": {
          "base_uri": "https://localhost:8080/"
        },
        "id": "5Pclnmx1B5Ep",
        "outputId": "1278a813-60d3-41b3-f22d-9e9bc0b426e9"
      },
      "execution_count": null,
      "outputs": [
        {
          "name": "stdout",
          "output_type": "stream",
          "text": [
            "Informe seu peso em Kg: 86\n"
          ]
        }
      ]
    },
    {
      "cell_type": "code",
      "source": [
        "print(peso)"
      ],
      "metadata": {
        "colab": {
          "base_uri": "https://localhost:8080/"
        },
        "id": "jKOJy161CBf2",
        "outputId": "c4368d5e-e26e-4e33-9712-77fb101ef37e"
      },
      "execution_count": null,
      "outputs": [
        {
          "output_type": "stream",
          "name": "stdout",
          "text": [
            "86.0\n"
          ]
        }
      ]
    },
    {
      "cell_type": "code",
      "source": [
        "type(peso)"
      ],
      "metadata": {
        "colab": {
          "base_uri": "https://localhost:8080/"
        },
        "id": "vpD8H8yYCDUW",
        "outputId": "8a2250fb-b8c6-48a3-cc32-99e2a771a520"
      },
      "execution_count": null,
      "outputs": [
        {
          "output_type": "execute_result",
          "data": {
            "text/plain": [
              "float"
            ]
          },
          "metadata": {},
          "execution_count": 37
        }
      ]
    },
    {
      "cell_type": "markdown",
      "source": [
        "# 4 - Prints Formatados (f-strings)"
      ],
      "metadata": {
        "id": "wKX3pl82CVS1"
      }
    },
    {
      "cell_type": "code",
      "source": [
        "'''\n",
        "Crie um programa que que receba do usuário e armazene:\n",
        "Nome, Peseo em kg e altura em metros e calcule seu imc\n",
        "e o exiba junto com seu nome em um único print\n",
        "'''\n",
        "nome = input('Informe seu nome: ')\n",
        "peso = float(input('Informe seu peso em Kg: '))\n",
        "altura = float(input('Informe sua altura em metros: '))\n",
        "imc = round(peso / (altura ** 2),2)\n",
        "print(f'{nome}, seu imc é: {imc}')"
      ],
      "metadata": {
        "colab": {
          "base_uri": "https://localhost:8080/"
        },
        "id": "ZgvrjYeNCbPe",
        "outputId": "495ae06e-e604-401c-f8fd-f82935dedad1"
      },
      "execution_count": null,
      "outputs": [
        {
          "output_type": "stream",
          "name": "stdout",
          "text": [
            "Informe seu nome: Douglas\n",
            "Informe seu peso em Kg: 86\n",
            "Informe sua altura em metros: 1.85\n",
            "Douglas, seu imc é: 25.13\n"
          ]
        }
      ]
    },
    {
      "cell_type": "markdown",
      "source": [
        "# 5 - Listas"
      ],
      "metadata": {
        "id": "XqVfNg2SHGmQ"
      }
    },
    {
      "cell_type": "code",
      "source": [
        "nomes = ['Douglas', 'Daniela', 'Pedro', 'Maria', 'Eduardo', 'Ester']\n",
        "peso = [86, 37, 92, 68, 94, 67]\n",
        "alturas = [1.85, 1.41, 1.75, 1.68, 1.82, 1.71]"
      ],
      "metadata": {
        "id": "5LVkMovVHD9l"
      },
      "execution_count": null,
      "outputs": []
    },
    {
      "cell_type": "code",
      "source": [
        "# Acessando um item de uma lista\n",
        "nomes[0]"
      ],
      "metadata": {
        "colab": {
          "base_uri": "https://localhost:8080/",
          "height": 35
        },
        "id": "ZK5J-wDVH_bG",
        "outputId": "82145d62-978f-4c1c-d97b-957124c151b9"
      },
      "execution_count": null,
      "outputs": [
        {
          "output_type": "execute_result",
          "data": {
            "text/plain": [
              "'Douglas'"
            ],
            "application/vnd.google.colaboratory.intrinsic+json": {
              "type": "string"
            }
          },
          "metadata": {},
          "execution_count": 47
        }
      ]
    },
    {
      "cell_type": "code",
      "source": [
        "produtos = []"
      ],
      "metadata": {
        "id": "AR_UkRbTIVMp"
      },
      "execution_count": null,
      "outputs": []
    },
    {
      "cell_type": "code",
      "source": [
        "# inserindo valores na última posição da lista\n",
        "produtos.append('arroz')"
      ],
      "metadata": {
        "id": "7le8DaojIh5m"
      },
      "execution_count": null,
      "outputs": []
    },
    {
      "cell_type": "code",
      "source": [
        "print(produtos)"
      ],
      "metadata": {
        "colab": {
          "base_uri": "https://localhost:8080/"
        },
        "id": "OAGjUHrZI6jx",
        "outputId": "0fdf8f89-5855-4e1b-857f-1a3981400856"
      },
      "execution_count": null,
      "outputs": [
        {
          "output_type": "stream",
          "name": "stdout",
          "text": [
            "['arroz']\n"
          ]
        }
      ]
    },
    {
      "cell_type": "code",
      "source": [
        "produtos.append('feijão')"
      ],
      "metadata": {
        "id": "TdP8uVYTI9aK"
      },
      "execution_count": null,
      "outputs": []
    },
    {
      "cell_type": "code",
      "source": [
        "print(produtos)"
      ],
      "metadata": {
        "colab": {
          "base_uri": "https://localhost:8080/"
        },
        "id": "o2T8eikMJCpQ",
        "outputId": "676e6d5e-f25d-449e-c069-597f80d826ae"
      },
      "execution_count": null,
      "outputs": [
        {
          "output_type": "stream",
          "name": "stdout",
          "text": [
            "['arroz', 'feijão']\n"
          ]
        }
      ]
    },
    {
      "cell_type": "code",
      "source": [
        "produtos.append('macarrão')"
      ],
      "metadata": {
        "id": "wMDXa8A5JG5e"
      },
      "execution_count": null,
      "outputs": []
    },
    {
      "cell_type": "code",
      "source": [
        "print(produtos)"
      ],
      "metadata": {
        "colab": {
          "base_uri": "https://localhost:8080/"
        },
        "id": "fmt-1Ph6JLdF",
        "outputId": "ad166efd-f6b7-4d7a-c5b6-45762b70058f"
      },
      "execution_count": null,
      "outputs": [
        {
          "output_type": "stream",
          "name": "stdout",
          "text": [
            "['arroz', 'feijão', 'macarrão']\n"
          ]
        }
      ]
    },
    {
      "cell_type": "code",
      "source": [
        "# Inserindo um valor em uma posição específica na lista\n",
        "produtos.insert(1, 'macarrão')"
      ],
      "metadata": {
        "id": "7lJnyk87Jb6p"
      },
      "execution_count": null,
      "outputs": []
    },
    {
      "cell_type": "code",
      "source": [
        "print(produtos)"
      ],
      "metadata": {
        "colab": {
          "base_uri": "https://localhost:8080/"
        },
        "id": "hLq_iEVlJtOp",
        "outputId": "ea58ccb7-be23-4b76-c6b6-bed066c4b40a"
      },
      "execution_count": null,
      "outputs": [
        {
          "output_type": "stream",
          "name": "stdout",
          "text": [
            "['arroz', 'macarrão', 'feijão', 'macarrão']\n"
          ]
        }
      ]
    },
    {
      "cell_type": "code",
      "source": [
        "produtos[3] = 'miojo'"
      ],
      "metadata": {
        "id": "CALdOqOxJ6-A"
      },
      "execution_count": null,
      "outputs": []
    },
    {
      "cell_type": "code",
      "source": [
        "print(produtos)"
      ],
      "metadata": {
        "colab": {
          "base_uri": "https://localhost:8080/"
        },
        "id": "Zpq4oK3CKA5a",
        "outputId": "bbc60422-a75b-4eaf-ea86-8315122a1907"
      },
      "execution_count": null,
      "outputs": [
        {
          "output_type": "stream",
          "name": "stdout",
          "text": [
            "['arroz', 'macarrão', 'feijão', 'miojo']\n"
          ]
        }
      ]
    },
    {
      "cell_type": "code",
      "source": [
        "# Excluir valores de uma lista, pelo método pop\n",
        "\n",
        "produtos.pop(2)"
      ],
      "metadata": {
        "colab": {
          "base_uri": "https://localhost:8080/",
          "height": 35
        },
        "id": "7aH8MIU1KGZL",
        "outputId": "bbe3dd2b-9d9c-4189-f59e-a40b9fdc306e"
      },
      "execution_count": null,
      "outputs": [
        {
          "output_type": "execute_result",
          "data": {
            "text/plain": [
              "'feijão'"
            ],
            "application/vnd.google.colaboratory.intrinsic+json": {
              "type": "string"
            }
          },
          "metadata": {},
          "execution_count": 61
        }
      ]
    },
    {
      "cell_type": "code",
      "source": [
        "print(produtos)"
      ],
      "metadata": {
        "colab": {
          "base_uri": "https://localhost:8080/"
        },
        "id": "VurcUe8zKTYd",
        "outputId": "672f73e4-4284-4c51-c533-b904b5a2b78b"
      },
      "execution_count": null,
      "outputs": [
        {
          "output_type": "stream",
          "name": "stdout",
          "text": [
            "['arroz', 'macarrão', 'miojo']\n"
          ]
        }
      ]
    },
    {
      "cell_type": "code",
      "source": [
        "# Excluir valores pelo nome\n",
        "\n",
        "produtos.remove('macarrão')"
      ],
      "metadata": {
        "id": "9X1JVDcjKVUL"
      },
      "execution_count": null,
      "outputs": []
    },
    {
      "cell_type": "code",
      "source": [
        "print(produtos)"
      ],
      "metadata": {
        "colab": {
          "base_uri": "https://localhost:8080/"
        },
        "id": "t0dSrULtKgDE",
        "outputId": "82d41549-24f6-452c-cb6f-6fa7d9b25ae4"
      },
      "execution_count": null,
      "outputs": [
        {
          "output_type": "stream",
          "name": "stdout",
          "text": [
            "['arroz', 'miojo']\n"
          ]
        }
      ]
    },
    {
      "cell_type": "code",
      "source": [
        "# Excluir todos os elementos de uma lista sem excluir a lista\n",
        "\n",
        "produtos.clear()"
      ],
      "metadata": {
        "id": "JFIElAP5Khse"
      },
      "execution_count": null,
      "outputs": []
    },
    {
      "cell_type": "code",
      "source": [
        "print(produtos)"
      ],
      "metadata": {
        "colab": {
          "base_uri": "https://localhost:8080/"
        },
        "id": "XTlH9m3TKsHt",
        "outputId": "67d63e2d-2b8d-480a-e144-49d295acbf86"
      },
      "execution_count": null,
      "outputs": [
        {
          "output_type": "stream",
          "name": "stdout",
          "text": [
            "[]\n"
          ]
        }
      ]
    },
    {
      "cell_type": "markdown",
      "source": [
        "# 6 - Estrutura de controle de fluxo"
      ],
      "metadata": {
        "id": "zziaCF22KzUS"
      }
    },
    {
      "cell_type": "markdown",
      "source": [
        "## 6.1 - IF, ELIF e ELSE"
      ],
      "metadata": {
        "id": "-E3ReFRlK6ZY"
      }
    },
    {
      "cell_type": "code",
      "source": [
        "'''\n",
        "Suponha que você deseja criar um programa que receba do usuário, uma nota\n",
        "numérica de 0 a 10 e caso essa nota informada seja maior ou igual a 6, exiba\n",
        "a mensagem aprovado, caso contrário exiba reprovado\n",
        "'''\n",
        "nota = float(input('Informe uma nota de 0 a 10: '))\n",
        "if nota >= 6:\n",
        "  print(f'A nota informada é {nota:.2f} e a condição é Aprovado')\n",
        "else:\n",
        "  print(f'A nota informada é {nota:.2f} e a condição é Reprovado')"
      ],
      "metadata": {
        "colab": {
          "base_uri": "https://localhost:8080/"
        },
        "id": "P2dJFS4eKy25",
        "outputId": "72993640-930d-4374-ef22-4958b5795eac"
      },
      "execution_count": null,
      "outputs": [
        {
          "output_type": "stream",
          "name": "stdout",
          "text": [
            "Informe uma nota de 0 a 10: 5.99\n",
            "A nota informada é 5.99 e a condição é Reprovado\n"
          ]
        }
      ]
    },
    {
      "cell_type": "code",
      "source": [
        "'''\n",
        "Agora imagine que caso a nota seja maior ou igual a 6 a condição seja aprovado,\n",
        "mas caso seja menor que 6 e maior ou igual a 4 a condição seja recuperação e\n",
        "caso a nota seja menor 4 a condição seja reprovado\n",
        "'''\n",
        "nota = float(input('Informe uma nota de 0 a 10: '))\n",
        "if nota >= 6:\n",
        "  print(f'A nota informada é {nota:.2f} e a condição é Aprovado')\n",
        "elif nota >= 4:\n",
        "  print(f'A nota informada é {nota:.2f} e a condição é Recuperação')\n",
        "else:\n",
        "  print(f'A nota informada é {nota:.2f} e a condição é Reprovado')"
      ],
      "metadata": {
        "colab": {
          "base_uri": "https://localhost:8080/"
        },
        "id": "669AEQaeMXSL",
        "outputId": "0a67d67b-6605-41a2-af16-38f5a9221667"
      },
      "execution_count": null,
      "outputs": [
        {
          "output_type": "stream",
          "name": "stdout",
          "text": [
            "Informe uma nota de 0 a 10: 3.99\n",
            "A nota informada é 3.99 e a condição é Reprovado\n"
          ]
        }
      ]
    },
    {
      "cell_type": "markdown",
      "source": [
        "## 6.2 - Estruturas de repetição - FOR"
      ],
      "metadata": {
        "id": "Ufi6EbxKNcjj"
      }
    },
    {
      "cell_type": "code",
      "source": [
        "nome = 'Douglas'\n",
        "nome[2]"
      ],
      "metadata": {
        "colab": {
          "base_uri": "https://localhost:8080/",
          "height": 35
        },
        "id": "P6O5rC5nNkUt",
        "outputId": "e28b6430-9fcd-49c4-e9fc-5cffaf780557"
      },
      "execution_count": null,
      "outputs": [
        {
          "output_type": "execute_result",
          "data": {
            "text/plain": [
              "'u'"
            ],
            "application/vnd.google.colaboratory.intrinsic+json": {
              "type": "string"
            }
          },
          "metadata": {},
          "execution_count": 75
        }
      ]
    },
    {
      "cell_type": "code",
      "source": [
        "for letra in nome:\n",
        "  print(letra)"
      ],
      "metadata": {
        "colab": {
          "base_uri": "https://localhost:8080/"
        },
        "id": "eIX9f_t4N1zp",
        "outputId": "fbd35abe-e48c-4581-9144-f47f542a1ed4"
      },
      "execution_count": null,
      "outputs": [
        {
          "output_type": "stream",
          "name": "stdout",
          "text": [
            "D\n",
            "o\n",
            "u\n",
            "g\n",
            "l\n",
            "a\n",
            "s\n"
          ]
        }
      ]
    },
    {
      "cell_type": "code",
      "source": [
        "for nome in nomes:\n",
        "  print(nome)"
      ],
      "metadata": {
        "colab": {
          "base_uri": "https://localhost:8080/"
        },
        "id": "2OL0BtqCOB_6",
        "outputId": "890a8d50-3d8b-482e-ecf5-d5a66dae6da0"
      },
      "execution_count": null,
      "outputs": [
        {
          "output_type": "stream",
          "name": "stdout",
          "text": [
            "Douglas\n",
            "Daniela\n",
            "Pedro\n",
            "Maria\n",
            "Eduardo\n",
            "Ester\n"
          ]
        }
      ]
    },
    {
      "cell_type": "code",
      "source": [
        "for numero in range(6):\n",
        "  print(numero)"
      ],
      "metadata": {
        "colab": {
          "base_uri": "https://localhost:8080/"
        },
        "id": "ChLnHpv0OJam",
        "outputId": "5b6f2e87-8384-46e2-f9ff-c68a5e48a981"
      },
      "execution_count": null,
      "outputs": [
        {
          "output_type": "stream",
          "name": "stdout",
          "text": [
            "0\n",
            "1\n",
            "2\n",
            "3\n",
            "4\n",
            "5\n"
          ]
        }
      ]
    },
    {
      "cell_type": "code",
      "source": [
        "nome = 'Douglas'\n",
        "for i in range(len(nome)):\n",
        "  print(nome[i])"
      ],
      "metadata": {
        "colab": {
          "base_uri": "https://localhost:8080/"
        },
        "id": "qah3G47-Oc2g",
        "outputId": "8c22d6ef-dc9d-43b7-ae30-8b7fdd66b639"
      },
      "execution_count": null,
      "outputs": [
        {
          "output_type": "stream",
          "name": "stdout",
          "text": [
            "D\n",
            "o\n",
            "u\n",
            "g\n",
            "l\n",
            "a\n",
            "s\n"
          ]
        }
      ]
    },
    {
      "cell_type": "code",
      "source": [
        "nomes = ['Douglas', 'Daniela', 'Pedro', 'Maria', 'Eduardo', 'Ester']\n",
        "peso = [86, 37, 92, 68, 94, 67]\n",
        "alturas = [1.85, 1.41, 1.75, 1.68, 1.82, 1.71]\n",
        "imc = []\n",
        "for i in range(len(nomes)):\n",
        "  imc.append(round(peso[i]/alturas[i]**2,2))\n",
        "print(imc)"
      ],
      "metadata": {
        "colab": {
          "base_uri": "https://localhost:8080/"
        },
        "id": "l3gFv7IFPVaX",
        "outputId": "cf2f8c61-acba-47a2-c4e2-3437fc824b66"
      },
      "execution_count": null,
      "outputs": [
        {
          "output_type": "stream",
          "name": "stdout",
          "text": [
            "[25.13, 18.61, 30.04, 24.09, 28.38, 22.91]\n"
          ]
        }
      ]
    },
    {
      "cell_type": "markdown",
      "source": [
        "## 6.3 - Loop While"
      ],
      "metadata": {
        "id": "ntr734FTS69A"
      }
    },
    {
      "cell_type": "code",
      "source": [
        "'''\n",
        "Imagine que você deseja receber uma quantidade indefinida de notas e após isso\n",
        "calcular a média aritmética delas e caso essa média seja maior ou igual a 6\n",
        "exiba a mensagem de Aprovado, caso seja menor que 6 e maior ou igual a 4, exiba\n",
        "a mensagem recuperação e caso seja menor que 4, exiba a mesnagem reprovado\n",
        "'''\n",
        "n = int(input('Informe a quantidade de avaliações da disciplina: '))\n",
        "notas = []\n",
        "c = 0\n",
        "while c < n:\n",
        "  notas.append(float(input(f'Informe a {c+1}ª nota para o calculo da média: ')))\n",
        "  c += 1\n",
        "media = sum(notas)/len(notas)\n",
        "if media >= 6:\n",
        "  print(f'A média das notas informadas é {media:.2f} e a condição é Aprovado')\n",
        "elif media >= 4:\n",
        "  print(f'A média das notas informadas é {media:.2f} e a condição é Recuperação')\n",
        "else:\n",
        "  print(f'A média das notas informadas é {media:.2f} e a condição é Reprovado')"
      ],
      "metadata": {
        "colab": {
          "base_uri": "https://localhost:8080/"
        },
        "id": "fLZMizNkTE_D",
        "outputId": "1def1875-1ab3-4e77-93d8-c717f9601892"
      },
      "execution_count": null,
      "outputs": [
        {
          "output_type": "stream",
          "name": "stdout",
          "text": [
            "Informe a quantidade de avaliações da disciplina: 2\n",
            "Informe a 1ª nota para o calculo da média: 2\n",
            "Informe a 2ª nota para o calculo da média: 4\n",
            "A média das notas informadas é 3.00 e a condição é Reprovado\n"
          ]
        }
      ]
    },
    {
      "cell_type": "markdown",
      "source": [
        "# 7 - Funções definidas pelo usuário"
      ],
      "metadata": {
        "id": "UwnZPyX-WRnz"
      }
    },
    {
      "cell_type": "code",
      "source": [
        "# Criando uma função\n",
        "\n",
        "def media_dois_valores(v1,v2):\n",
        "  media = (v1 + v2) / 2\n",
        "  return media"
      ],
      "metadata": {
        "id": "qUpehbC9WYnO"
      },
      "execution_count": null,
      "outputs": []
    },
    {
      "cell_type": "code",
      "source": [
        "media_dois_valores(8, 9)"
      ],
      "metadata": {
        "colab": {
          "base_uri": "https://localhost:8080/"
        },
        "id": "bIu3CdZ-W5ac",
        "outputId": "f6b8fafd-8d52-454c-c78b-40f602b6c467"
      },
      "execution_count": null,
      "outputs": [
        {
          "output_type": "execute_result",
          "data": {
            "text/plain": [
              "8.5"
            ]
          },
          "metadata": {},
          "execution_count": 95
        }
      ]
    }
  ]
}