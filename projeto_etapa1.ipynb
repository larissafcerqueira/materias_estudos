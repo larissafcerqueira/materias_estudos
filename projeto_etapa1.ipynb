{
  "nbformat": 4,
  "nbformat_minor": 0,
  "metadata": {
    "colab": {
      "provenance": [],
      "include_colab_link": true
    },
    "kernelspec": {
      "name": "python3",
      "display_name": "Python 3"
    },
    "language_info": {
      "name": "python"
    }
  },
  "cells": [
    {
      "cell_type": "markdown",
      "metadata": {
        "id": "view-in-github",
        "colab_type": "text"
      },
      "source": [
        "<a href=\"https://colab.research.google.com/github/larissafcerqueira/materias_estudos/blob/main/projeto_etapa1.ipynb\" target=\"_parent\"><img src=\"https://colab.research.google.com/assets/colab-badge.svg\" alt=\"Open In Colab\"/></a>"
      ]
    },
    {
      "cell_type": "code",
      "source": [
        "%%writefile upload_gcp.py\n",
        "\n",
        "import subprocess\n",
        "from google.colab import auth\n",
        "import gspread\n",
        "import pandas as pd\n",
        "from google.cloud import storage\n",
        "\n",
        "# Instalar as bibliotecas necessárias\n",
        "def instalar_bibliotecas():\n",
        "    subprocess.check_call(['pip', 'install', '--upgrade', 'gspread', 'google-cloud-storage', 'pandas'])\n",
        "\n",
        "# Autenticar o usuário no Google Colab\n",
        "def autenticar_usuario():\n",
        "    auth.authenticate_user()\n",
        "\n",
        "# Puxar dados do Google Sheets e salvar como CSV\n",
        "def puxar_dados_google_sheets(sheet_id, service_account_file, csv_path):\n",
        "    # Autentica usando a conta de serviço\n",
        "    gc = gspread.service_account(filename=service_account_file)\n",
        "    # Abre a planilha pelo ID e seleciona a primeira aba\n",
        "    sheet = gc.open_by_key(sheet_id).sheet1\n",
        "    # Pega todos os dados da planilha\n",
        "    dados = sheet.get_all_records()\n",
        "    # Converte para DataFrame\n",
        "    df = pd.DataFrame(dados)\n",
        "    # Salva como CSV\n",
        "    df.to_csv(csv_path, index=False)\n",
        "    print(f'Dados salvos como CSV em {csv_path}')\n",
        "\n",
        "# Fazer upload do arquivo CSV para o Google Cloud Storage\n",
        "def upload_gcp(bucket_nome, origem_nome, destino_blob_nome):\n",
        "    # Inicializar o cliente do Google Cloud Storage\n",
        "    client = storage.Client()\n",
        "    # Obter o bucket onde o arquivo será armazenado\n",
        "    bucket = client.bucket(bucket_nome)\n",
        "    # Criar um novo blob no bucket e fazer o upload do arquivo local\n",
        "    blob = bucket.blob(destino_blob_nome)\n",
        "    blob.upload_from_filename(origem_nome)\n",
        "    print(f'Arquivo {origem_nome} enviado para {destino_blob_nome} no bucket {bucket_nome}')\n",
        "\n",
        "if __name__ == '__main__':\n",
        "    # Instalar bibliotecas necessárias\n",
        "    instalar_bibliotecas()\n",
        "\n",
        "    # Autenticar usuário\n",
        "    autenticar_usuario()\n",
        "\n",
        "    # Definir parâmetros\n",
        "    sheet_id = '1BnX32ZWov03-_eolJ_PmWC5Lnd0FOOrJoguwpYgxWLQ'  # ID da planilha do Google Sheets\n",
        "    service_account_file = '/content/nomadic-thinker-434414-i9-f5ef582f6cda.json'  # Caminho para o arquivo de credenciais\n",
        "    csv_path = '/content/dados.csv'  # Caminho onde o CSV será salvo\n",
        "    bucket_nome = 'analise_dados'  # Nome do bucket no GCP\n",
        "    destino_blob_nome = 'dados_bruto/dados_sujos.csv'  # Nome do arquivo no bucket\n",
        "\n",
        "    # Puxar dados do Google Sheets e salvar como CSV\n",
        "    puxar_dados_google_sheets(sheet_id, service_account_file, csv_path)\n",
        "\n",
        "    # Fazer upload do CSV para o Google Cloud Storage\n",
        "    upload_gcp(bucket_nome, csv_path, destino_blob_nome)\n"
      ],
      "metadata": {
        "colab": {
          "base_uri": "https://localhost:8080/"
        },
        "id": "mUeUHrsAzdnE",
        "outputId": "f8a109f4-229c-4436-a5be-d7cd2608343e"
      },
      "execution_count": null,
      "outputs": [
        {
          "output_type": "stream",
          "name": "stdout",
          "text": [
            "Overwriting upload_gcp.py\n"
          ]
        }
      ]
    },
    {
      "cell_type": "code",
      "source": [
        "!python3 upload_gcp.py\n"
      ],
      "metadata": {
        "colab": {
          "base_uri": "https://localhost:8080/"
        },
        "id": "0b5jlnHrCKJ1",
        "outputId": "5081a8a8-e365-45ce-8997-c91e10dc8f83"
      },
      "execution_count": null,
      "outputs": [
        {
          "output_type": "stream",
          "name": "stdout",
          "text": [
            "Requirement already satisfied: gspread in /usr/local/lib/python3.10/dist-packages (6.1.3)\n",
            "Requirement already satisfied: google-cloud-storage in /usr/local/lib/python3.10/dist-packages (2.18.2)\n",
            "Requirement already satisfied: pandas in /usr/local/lib/python3.10/dist-packages (2.2.3)\n",
            "Requirement already satisfied: google-auth>=1.12.0 in /usr/local/lib/python3.10/dist-packages (from gspread) (2.27.0)\n",
            "Requirement already satisfied: google-auth-oauthlib>=0.4.1 in /usr/local/lib/python3.10/dist-packages (from gspread) (1.2.1)\n",
            "Requirement already satisfied: google-api-core<3.0.0dev,>=2.15.0 in /usr/local/lib/python3.10/dist-packages (from google-cloud-storage) (2.19.2)\n",
            "Requirement already satisfied: google-cloud-core<3.0dev,>=2.3.0 in /usr/local/lib/python3.10/dist-packages (from google-cloud-storage) (2.4.1)\n",
            "Requirement already satisfied: google-resumable-media>=2.7.2 in /usr/local/lib/python3.10/dist-packages (from google-cloud-storage) (2.7.2)\n",
            "Requirement already satisfied: requests<3.0.0dev,>=2.18.0 in /usr/local/lib/python3.10/dist-packages (from google-cloud-storage) (2.32.3)\n",
            "Requirement already satisfied: google-crc32c<2.0dev,>=1.0 in /usr/local/lib/python3.10/dist-packages (from google-cloud-storage) (1.6.0)\n",
            "Requirement already satisfied: numpy>=1.22.4 in /usr/local/lib/python3.10/dist-packages (from pandas) (1.26.4)\n",
            "Requirement already satisfied: python-dateutil>=2.8.2 in /usr/local/lib/python3.10/dist-packages (from pandas) (2.8.2)\n",
            "Requirement already satisfied: pytz>=2020.1 in /usr/local/lib/python3.10/dist-packages (from pandas) (2024.2)\n",
            "Requirement already satisfied: tzdata>=2022.7 in /usr/local/lib/python3.10/dist-packages (from pandas) (2024.2)\n",
            "Requirement already satisfied: googleapis-common-protos<2.0.dev0,>=1.56.2 in /usr/local/lib/python3.10/dist-packages (from google-api-core<3.0.0dev,>=2.15.0->google-cloud-storage) (1.65.0)\n",
            "Requirement already satisfied: protobuf!=3.20.0,!=3.20.1,!=4.21.0,!=4.21.1,!=4.21.2,!=4.21.3,!=4.21.4,!=4.21.5,<6.0.0.dev0,>=3.19.5 in /usr/local/lib/python3.10/dist-packages (from google-api-core<3.0.0dev,>=2.15.0->google-cloud-storage) (3.20.3)\n",
            "Requirement already satisfied: proto-plus<2.0.0dev,>=1.22.3 in /usr/local/lib/python3.10/dist-packages (from google-api-core<3.0.0dev,>=2.15.0->google-cloud-storage) (1.24.0)\n",
            "Requirement already satisfied: cachetools<6.0,>=2.0.0 in /usr/local/lib/python3.10/dist-packages (from google-auth>=1.12.0->gspread) (5.5.0)\n",
            "Requirement already satisfied: pyasn1-modules>=0.2.1 in /usr/local/lib/python3.10/dist-packages (from google-auth>=1.12.0->gspread) (0.4.1)\n",
            "Requirement already satisfied: rsa<5,>=3.1.4 in /usr/local/lib/python3.10/dist-packages (from google-auth>=1.12.0->gspread) (4.9)\n",
            "Requirement already satisfied: requests-oauthlib>=0.7.0 in /usr/local/lib/python3.10/dist-packages (from google-auth-oauthlib>=0.4.1->gspread) (1.3.1)\n",
            "Requirement already satisfied: six>=1.5 in /usr/local/lib/python3.10/dist-packages (from python-dateutil>=2.8.2->pandas) (1.16.0)\n",
            "Requirement already satisfied: charset-normalizer<4,>=2 in /usr/local/lib/python3.10/dist-packages (from requests<3.0.0dev,>=2.18.0->google-cloud-storage) (3.4.0)\n",
            "Requirement already satisfied: idna<4,>=2.5 in /usr/local/lib/python3.10/dist-packages (from requests<3.0.0dev,>=2.18.0->google-cloud-storage) (3.10)\n",
            "Requirement already satisfied: urllib3<3,>=1.21.1 in /usr/local/lib/python3.10/dist-packages (from requests<3.0.0dev,>=2.18.0->google-cloud-storage) (2.2.3)\n",
            "Requirement already satisfied: certifi>=2017.4.17 in /usr/local/lib/python3.10/dist-packages (from requests<3.0.0dev,>=2.18.0->google-cloud-storage) (2024.8.30)\n",
            "Requirement already satisfied: pyasn1<0.7.0,>=0.4.6 in /usr/local/lib/python3.10/dist-packages (from pyasn1-modules>=0.2.1->google-auth>=1.12.0->gspread) (0.6.1)\n",
            "Requirement already satisfied: oauthlib>=3.0.0 in /usr/local/lib/python3.10/dist-packages (from requests-oauthlib>=0.7.0->google-auth-oauthlib>=0.4.1->gspread) (3.2.2)\n",
            "Dados salvos como CSV em /content/dados.csv\n",
            "Arquivo /content/dados.csv enviado para dados_bruto/dados_sujos.csv no bucket analise_dados\n"
          ]
        }
      ]
    },
    {
      "cell_type": "code",
      "source": [
        "# Importar o módulo\n",
        "import upload_gcp as upload\n",
        "\n",
        "# Instalar bibliotecas (supondo que upload_gcp já tenha essa função)\n",
        "upload.instalar_bibliotecas()\n",
        "\n",
        "# Autenticar o usuário (chama a autenticação para permitir interações com GCP e Google Sheets)\n",
        "upload.autenticar_usuario()\n",
        "\n",
        "# Definir parâmetros\n",
        "sheet_id = '1BnX32ZWov03-_eolJ_PmWC5Lnd0FOOrJoguwpYgxWLQ'  # ID da planilha do Google Sheets\n",
        "# Atualizando o caminho do arquivo de credenciais com base nas novas credenciais fornecidas\n",
        "service_account_file = '/content/nomadic-thinker-434414-i9-f5ef582f6cda.json'  # Caminho para o arquivo de credenciais\n",
        "\n",
        "csv_path = '/content/dados.csv'  # Caminho onde o CSV será salvo\n",
        "bucket_nome = 'analise_dados'  # Nome do bucket no GCP\n",
        "destino_blob_nome = 'dados_bruto/dados_sujos.csv'  # Nome do arquivo no bucket\n",
        "\n",
        "# Puxar dados do Google Sheets e salvar como CSV\n",
        "upload.puxar_dados_google_sheets(sheet_id, service_account_file, csv_path)\n",
        "\n",
        "# Fazer upload do CSV para o Google Cloud Storage\n",
        "upload.upload_gcp(bucket_nome, csv_path, destino_blob_nome)\n",
        "\n",
        "# Para ter certeza que as credenciais são lidas corretamente, se necessário você pode carregar o arquivo diretamente assim:\n",
        "import json\n",
        "\n",
        "# Carregar as credenciais do arquivo JSON\n",
        "with open(service_account_file) as source:\n",
        "    info = json.load(source)\n",
        "\n",
        "print(\"Credenciais carregadas com sucesso!\")\n"
      ],
      "metadata": {
        "colab": {
          "base_uri": "https://localhost:8080/"
        },
        "id": "LVlRTi6-CZzN",
        "outputId": "e8486aee-4a70-4111-aef5-6617c7d0463a"
      },
      "execution_count": null,
      "outputs": [
        {
          "output_type": "stream",
          "name": "stdout",
          "text": [
            "Dados salvos como CSV em /content/dados.csv\n",
            "Arquivo /content/dados.csv enviado para dados_bruto/dados_sujos.csv no bucket analise_dados\n",
            "Credenciais carregadas com sucesso!\n"
          ]
        }
      ]
    }
  ]
}