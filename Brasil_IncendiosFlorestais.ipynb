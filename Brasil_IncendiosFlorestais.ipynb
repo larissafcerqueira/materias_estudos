{
  "nbformat": 4,
  "nbformat_minor": 0,
  "metadata": {
    "colab": {
      "provenance": [],
      "include_colab_link": true
    },
    "kernelspec": {
      "name": "python3",
      "display_name": "Python 3"
    },
    "language_info": {
      "name": "python"
    }
  },
  "cells": [
    {
      "cell_type": "markdown",
      "metadata": {
        "id": "view-in-github",
        "colab_type": "text"
      },
      "source": [
        "<a href=\"https://colab.research.google.com/github/larissafcerqueira/soulcode/blob/main/Brasil_IncendiosFlorestais.ipynb\" target=\"_parent\"><img src=\"https://colab.research.google.com/assets/colab-badge.svg\" alt=\"Open In Colab\"/></a>"
      ]
    },
    {
      "cell_type": "markdown",
      "source": [
        "# Terra Brasilis - Queimadas\n",
        "\n",
        "Fonte : https://terrabrasilis.dpi.inpe.br/queimadas/portal/dados-abertos/"
      ],
      "metadata": {
        "id": "QG4D0fZ1oV5v"
      }
    },
    {
      "cell_type": "markdown",
      "source": [
        "# Sumário\n",
        "\n",
        "1 - Ingestão de Dados\n",
        "  - Extração de Dados\n",
        "  - Transformação de Dados\n",
        "  - Carregamento de Dados\n",
        "\n",
        "2 - Mais arquivos (replicando em funções)"
      ],
      "metadata": {
        "id": "lUNUEZoCocOi"
      }
    },
    {
      "cell_type": "markdown",
      "source": [
        "# 1 - Ingestão de dados\n",
        "\n",
        "## Extração de Dados"
      ],
      "metadata": {
        "id": "iB5sedaXm_Gn"
      }
    },
    {
      "cell_type": "code",
      "source": [
        "import pandas as pd\n",
        "\n",
        "# Aqui, solicitamos ao pandas que leia o arquivo com nome \"focos_mensal_br_202308.csv\"\n",
        "df = pd.read_csv(\"input/focos_mensal_br_202308.csv\")\n",
        "\n",
        "# depois, armazenamos esse dataframe na variável \"df\" (df significa dataframe)"
      ],
      "metadata": {
        "id": "WsNoTDE3l47a"
      },
      "execution_count": null,
      "outputs": []
    },
    {
      "cell_type": "code",
      "source": [
        "# Com df.head() ou df.tail(),\n",
        "# Podemos visualizar uma parcela pequena dos dados carregados\n",
        "df.head(2)"
      ],
      "metadata": {
        "colab": {
          "base_uri": "https://localhost:8080/",
          "height": 236
        },
        "id": "NjrqH79No25k",
        "outputId": "14d3bca4-2611-4334-d950-c7c26b63ef44"
      },
      "execution_count": null,
      "outputs": [
        {
          "output_type": "execute_result",
          "data": {
            "text/plain": [
              "                                     id     lat      lon        data_hora_gmt  \\\n",
              "0  d3fd9911-d828-3228-9914-da431c1df183 -3.7637 -48.0287  2023-08-01 00:05:28   \n",
              "1  0347d6da-556a-3a3f-9e5a-c3844a8587a3 -5.8654 -45.5057  2023-08-01 00:05:39   \n",
              "\n",
              "  satelite    municipio    estado    pais  municipio_id  estado_id  pais_id  \\\n",
              "0  GOES-16  PARAGOMINAS      PARÁ  Brasil       1505502         15       33   \n",
              "1  GOES-16       GRAJAÚ  MARANHÃO  Brasil       2104800         21       33   \n",
              "\n",
              "   numero_dias_sem_chuva  precipitacao  risco_fogo     bioma    frp  \n",
              "0                     43           0.0        1.00  Amazônia   96.6  \n",
              "1                     75           0.0        0.98   Cerrado  587.0  "
            ],
            "text/html": [
              "\n",
              "  <div id=\"df-c4622e2f-672d-4dda-b4eb-d2269ae2b526\" class=\"colab-df-container\">\n",
              "    <div>\n",
              "<style scoped>\n",
              "    .dataframe tbody tr th:only-of-type {\n",
              "        vertical-align: middle;\n",
              "    }\n",
              "\n",
              "    .dataframe tbody tr th {\n",
              "        vertical-align: top;\n",
              "    }\n",
              "\n",
              "    .dataframe thead th {\n",
              "        text-align: right;\n",
              "    }\n",
              "</style>\n",
              "<table border=\"1\" class=\"dataframe\">\n",
              "  <thead>\n",
              "    <tr style=\"text-align: right;\">\n",
              "      <th></th>\n",
              "      <th>id</th>\n",
              "      <th>lat</th>\n",
              "      <th>lon</th>\n",
              "      <th>data_hora_gmt</th>\n",
              "      <th>satelite</th>\n",
              "      <th>municipio</th>\n",
              "      <th>estado</th>\n",
              "      <th>pais</th>\n",
              "      <th>municipio_id</th>\n",
              "      <th>estado_id</th>\n",
              "      <th>pais_id</th>\n",
              "      <th>numero_dias_sem_chuva</th>\n",
              "      <th>precipitacao</th>\n",
              "      <th>risco_fogo</th>\n",
              "      <th>bioma</th>\n",
              "      <th>frp</th>\n",
              "    </tr>\n",
              "  </thead>\n",
              "  <tbody>\n",
              "    <tr>\n",
              "      <th>0</th>\n",
              "      <td>d3fd9911-d828-3228-9914-da431c1df183</td>\n",
              "      <td>-3.7637</td>\n",
              "      <td>-48.0287</td>\n",
              "      <td>2023-08-01 00:05:28</td>\n",
              "      <td>GOES-16</td>\n",
              "      <td>PARAGOMINAS</td>\n",
              "      <td>PARÁ</td>\n",
              "      <td>Brasil</td>\n",
              "      <td>1505502</td>\n",
              "      <td>15</td>\n",
              "      <td>33</td>\n",
              "      <td>43</td>\n",
              "      <td>0.0</td>\n",
              "      <td>1.00</td>\n",
              "      <td>Amazônia</td>\n",
              "      <td>96.6</td>\n",
              "    </tr>\n",
              "    <tr>\n",
              "      <th>1</th>\n",
              "      <td>0347d6da-556a-3a3f-9e5a-c3844a8587a3</td>\n",
              "      <td>-5.8654</td>\n",
              "      <td>-45.5057</td>\n",
              "      <td>2023-08-01 00:05:39</td>\n",
              "      <td>GOES-16</td>\n",
              "      <td>GRAJAÚ</td>\n",
              "      <td>MARANHÃO</td>\n",
              "      <td>Brasil</td>\n",
              "      <td>2104800</td>\n",
              "      <td>21</td>\n",
              "      <td>33</td>\n",
              "      <td>75</td>\n",
              "      <td>0.0</td>\n",
              "      <td>0.98</td>\n",
              "      <td>Cerrado</td>\n",
              "      <td>587.0</td>\n",
              "    </tr>\n",
              "  </tbody>\n",
              "</table>\n",
              "</div>\n",
              "    <div class=\"colab-df-buttons\">\n",
              "\n",
              "  <div class=\"colab-df-container\">\n",
              "    <button class=\"colab-df-convert\" onclick=\"convertToInteractive('df-c4622e2f-672d-4dda-b4eb-d2269ae2b526')\"\n",
              "            title=\"Convert this dataframe to an interactive table.\"\n",
              "            style=\"display:none;\">\n",
              "\n",
              "  <svg xmlns=\"http://www.w3.org/2000/svg\" height=\"24px\" viewBox=\"0 -960 960 960\">\n",
              "    <path d=\"M120-120v-720h720v720H120Zm60-500h600v-160H180v160Zm220 220h160v-160H400v160Zm0 220h160v-160H400v160ZM180-400h160v-160H180v160Zm440 0h160v-160H620v160ZM180-180h160v-160H180v160Zm440 0h160v-160H620v160Z\"/>\n",
              "  </svg>\n",
              "    </button>\n",
              "\n",
              "  <style>\n",
              "    .colab-df-container {\n",
              "      display:flex;\n",
              "      gap: 12px;\n",
              "    }\n",
              "\n",
              "    .colab-df-convert {\n",
              "      background-color: #E8F0FE;\n",
              "      border: none;\n",
              "      border-radius: 50%;\n",
              "      cursor: pointer;\n",
              "      display: none;\n",
              "      fill: #1967D2;\n",
              "      height: 32px;\n",
              "      padding: 0 0 0 0;\n",
              "      width: 32px;\n",
              "    }\n",
              "\n",
              "    .colab-df-convert:hover {\n",
              "      background-color: #E2EBFA;\n",
              "      box-shadow: 0px 1px 2px rgba(60, 64, 67, 0.3), 0px 1px 3px 1px rgba(60, 64, 67, 0.15);\n",
              "      fill: #174EA6;\n",
              "    }\n",
              "\n",
              "    .colab-df-buttons div {\n",
              "      margin-bottom: 4px;\n",
              "    }\n",
              "\n",
              "    [theme=dark] .colab-df-convert {\n",
              "      background-color: #3B4455;\n",
              "      fill: #D2E3FC;\n",
              "    }\n",
              "\n",
              "    [theme=dark] .colab-df-convert:hover {\n",
              "      background-color: #434B5C;\n",
              "      box-shadow: 0px 1px 3px 1px rgba(0, 0, 0, 0.15);\n",
              "      filter: drop-shadow(0px 1px 2px rgba(0, 0, 0, 0.3));\n",
              "      fill: #FFFFFF;\n",
              "    }\n",
              "  </style>\n",
              "\n",
              "    <script>\n",
              "      const buttonEl =\n",
              "        document.querySelector('#df-c4622e2f-672d-4dda-b4eb-d2269ae2b526 button.colab-df-convert');\n",
              "      buttonEl.style.display =\n",
              "        google.colab.kernel.accessAllowed ? 'block' : 'none';\n",
              "\n",
              "      async function convertToInteractive(key) {\n",
              "        const element = document.querySelector('#df-c4622e2f-672d-4dda-b4eb-d2269ae2b526');\n",
              "        const dataTable =\n",
              "          await google.colab.kernel.invokeFunction('convertToInteractive',\n",
              "                                                    [key], {});\n",
              "        if (!dataTable) return;\n",
              "\n",
              "        const docLinkHtml = 'Like what you see? Visit the ' +\n",
              "          '<a target=\"_blank\" href=https://colab.research.google.com/notebooks/data_table.ipynb>data table notebook</a>'\n",
              "          + ' to learn more about interactive tables.';\n",
              "        element.innerHTML = '';\n",
              "        dataTable['output_type'] = 'display_data';\n",
              "        await google.colab.output.renderOutput(dataTable, element);\n",
              "        const docLink = document.createElement('div');\n",
              "        docLink.innerHTML = docLinkHtml;\n",
              "        element.appendChild(docLink);\n",
              "      }\n",
              "    </script>\n",
              "  </div>\n",
              "\n",
              "\n",
              "<div id=\"df-69a7c440-3c31-4901-ba84-bcbfc2eb6ae3\">\n",
              "  <button class=\"colab-df-quickchart\" onclick=\"quickchart('df-69a7c440-3c31-4901-ba84-bcbfc2eb6ae3')\"\n",
              "            title=\"Suggest charts\"\n",
              "            style=\"display:none;\">\n",
              "\n",
              "<svg xmlns=\"http://www.w3.org/2000/svg\" height=\"24px\"viewBox=\"0 0 24 24\"\n",
              "     width=\"24px\">\n",
              "    <g>\n",
              "        <path d=\"M19 3H5c-1.1 0-2 .9-2 2v14c0 1.1.9 2 2 2h14c1.1 0 2-.9 2-2V5c0-1.1-.9-2-2-2zM9 17H7v-7h2v7zm4 0h-2V7h2v10zm4 0h-2v-4h2v4z\"/>\n",
              "    </g>\n",
              "</svg>\n",
              "  </button>\n",
              "\n",
              "<style>\n",
              "  .colab-df-quickchart {\n",
              "      --bg-color: #E8F0FE;\n",
              "      --fill-color: #1967D2;\n",
              "      --hover-bg-color: #E2EBFA;\n",
              "      --hover-fill-color: #174EA6;\n",
              "      --disabled-fill-color: #AAA;\n",
              "      --disabled-bg-color: #DDD;\n",
              "  }\n",
              "\n",
              "  [theme=dark] .colab-df-quickchart {\n",
              "      --bg-color: #3B4455;\n",
              "      --fill-color: #D2E3FC;\n",
              "      --hover-bg-color: #434B5C;\n",
              "      --hover-fill-color: #FFFFFF;\n",
              "      --disabled-bg-color: #3B4455;\n",
              "      --disabled-fill-color: #666;\n",
              "  }\n",
              "\n",
              "  .colab-df-quickchart {\n",
              "    background-color: var(--bg-color);\n",
              "    border: none;\n",
              "    border-radius: 50%;\n",
              "    cursor: pointer;\n",
              "    display: none;\n",
              "    fill: var(--fill-color);\n",
              "    height: 32px;\n",
              "    padding: 0;\n",
              "    width: 32px;\n",
              "  }\n",
              "\n",
              "  .colab-df-quickchart:hover {\n",
              "    background-color: var(--hover-bg-color);\n",
              "    box-shadow: 0 1px 2px rgba(60, 64, 67, 0.3), 0 1px 3px 1px rgba(60, 64, 67, 0.15);\n",
              "    fill: var(--button-hover-fill-color);\n",
              "  }\n",
              "\n",
              "  .colab-df-quickchart-complete:disabled,\n",
              "  .colab-df-quickchart-complete:disabled:hover {\n",
              "    background-color: var(--disabled-bg-color);\n",
              "    fill: var(--disabled-fill-color);\n",
              "    box-shadow: none;\n",
              "  }\n",
              "\n",
              "  .colab-df-spinner {\n",
              "    border: 2px solid var(--fill-color);\n",
              "    border-color: transparent;\n",
              "    border-bottom-color: var(--fill-color);\n",
              "    animation:\n",
              "      spin 1s steps(1) infinite;\n",
              "  }\n",
              "\n",
              "  @keyframes spin {\n",
              "    0% {\n",
              "      border-color: transparent;\n",
              "      border-bottom-color: var(--fill-color);\n",
              "      border-left-color: var(--fill-color);\n",
              "    }\n",
              "    20% {\n",
              "      border-color: transparent;\n",
              "      border-left-color: var(--fill-color);\n",
              "      border-top-color: var(--fill-color);\n",
              "    }\n",
              "    30% {\n",
              "      border-color: transparent;\n",
              "      border-left-color: var(--fill-color);\n",
              "      border-top-color: var(--fill-color);\n",
              "      border-right-color: var(--fill-color);\n",
              "    }\n",
              "    40% {\n",
              "      border-color: transparent;\n",
              "      border-right-color: var(--fill-color);\n",
              "      border-top-color: var(--fill-color);\n",
              "    }\n",
              "    60% {\n",
              "      border-color: transparent;\n",
              "      border-right-color: var(--fill-color);\n",
              "    }\n",
              "    80% {\n",
              "      border-color: transparent;\n",
              "      border-right-color: var(--fill-color);\n",
              "      border-bottom-color: var(--fill-color);\n",
              "    }\n",
              "    90% {\n",
              "      border-color: transparent;\n",
              "      border-bottom-color: var(--fill-color);\n",
              "    }\n",
              "  }\n",
              "</style>\n",
              "\n",
              "  <script>\n",
              "    async function quickchart(key) {\n",
              "      const quickchartButtonEl =\n",
              "        document.querySelector('#' + key + ' button');\n",
              "      quickchartButtonEl.disabled = true;  // To prevent multiple clicks.\n",
              "      quickchartButtonEl.classList.add('colab-df-spinner');\n",
              "      try {\n",
              "        const charts = await google.colab.kernel.invokeFunction(\n",
              "            'suggestCharts', [key], {});\n",
              "      } catch (error) {\n",
              "        console.error('Error during call to suggestCharts:', error);\n",
              "      }\n",
              "      quickchartButtonEl.classList.remove('colab-df-spinner');\n",
              "      quickchartButtonEl.classList.add('colab-df-quickchart-complete');\n",
              "    }\n",
              "    (() => {\n",
              "      let quickchartButtonEl =\n",
              "        document.querySelector('#df-69a7c440-3c31-4901-ba84-bcbfc2eb6ae3 button');\n",
              "      quickchartButtonEl.style.display =\n",
              "        google.colab.kernel.accessAllowed ? 'block' : 'none';\n",
              "    })();\n",
              "  </script>\n",
              "</div>\n",
              "\n",
              "    </div>\n",
              "  </div>\n"
            ],
            "application/vnd.google.colaboratory.intrinsic+json": {
              "type": "dataframe",
              "variable_name": "df"
            }
          },
          "metadata": {},
          "execution_count": 15
        }
      ]
    },
    {
      "cell_type": "code",
      "source": [
        "# Com df.info(), podemos visualizar os tipos de dados\n",
        "# Isso será necessário para a etapa de Transformação de dados\n",
        "df.info()"
      ],
      "metadata": {
        "colab": {
          "base_uri": "https://localhost:8080/"
        },
        "id": "vdjYAWnjpNWM",
        "outputId": "5e315226-4348-4a30-b593-43864fb9fde4"
      },
      "execution_count": null,
      "outputs": [
        {
          "output_type": "stream",
          "name": "stdout",
          "text": [
            "<class 'pandas.core.frame.DataFrame'>\n",
            "RangeIndex: 709556 entries, 0 to 709555\n",
            "Data columns (total 16 columns):\n",
            " #   Column                 Non-Null Count   Dtype  \n",
            "---  ------                 --------------   -----  \n",
            " 0   id                     709556 non-null  object \n",
            " 1   lat                    709556 non-null  float64\n",
            " 2   lon                    709556 non-null  float64\n",
            " 3   data_hora_gmt          709556 non-null  object \n",
            " 4   satelite               709556 non-null  object \n",
            " 5   municipio              709556 non-null  object \n",
            " 6   estado                 709556 non-null  object \n",
            " 7   pais                   709556 non-null  object \n",
            " 8   municipio_id           709556 non-null  int64  \n",
            " 9   estado_id              709556 non-null  int64  \n",
            " 10  pais_id                709556 non-null  int64  \n",
            " 11  numero_dias_sem_chuva  709556 non-null  int64  \n",
            " 12  precipitacao           709556 non-null  float64\n",
            " 13  risco_fogo             709556 non-null  float64\n",
            " 14  bioma                  709555 non-null  object \n",
            " 15  frp                    698347 non-null  float64\n",
            "dtypes: float64(5), int64(4), object(7)\n",
            "memory usage: 86.6+ MB\n"
          ]
        }
      ]
    },
    {
      "cell_type": "markdown",
      "source": [
        "## Transformação de Dados\n",
        "\n",
        "Podemos visualizar algumas variáveis que contém tipos de dados estranhos, que precisam ser tratados para serem utilizados corretamente.\n",
        "\n",
        "Alguns deles são:\n",
        "data_hora_gmt (com tipo object) -> deveria ser uma data\n",
        "\n",
        "satelite, municipio, estado, pais (com tipo object) -> todos esses deveriam ser tipos string\n",
        "\n",
        "Confira a documentação dos dtypes do pandas para mais informações:\n",
        "\n",
        "https://pandas.pydata.org/pandas-docs/stable/user_guide/basics.html#dtypes"
      ],
      "metadata": {
        "id": "GnjS8KKLpbRi"
      }
    },
    {
      "cell_type": "code",
      "source": [
        "# Mudando o dtype das colunas object para string\n",
        "df['id'] = df['id'].astype('string')\n",
        "df['satelite'] = df['satelite'].astype('string')\n",
        "df['municipio'] = df['municipio'].astype('string')\n",
        "df['estado'] = df['estado'].astype('string')\n",
        "df['pais'] = df['pais'].astype('string')\n",
        "df['bioma'] = df['bioma'].astype('string')"
      ],
      "metadata": {
        "id": "QYEhm0qOpZM8"
      },
      "execution_count": null,
      "outputs": []
    },
    {
      "cell_type": "code",
      "source": [
        "# Mudando o dtype das colunas object para datetype\n",
        "df['data_hora_gmt'] = pd.to_datetime(df['data_hora_gmt'])\n",
        "\n",
        "# Vamos construir colunas de ano, mes e dia para facilitar o agrupamento posterior\n",
        "df['ano'] = df['data_hora_gmt'].dt.year\n",
        "df['mes'] = df['data_hora_gmt'].dt.month\n",
        "df['dia'] = df['data_hora_gmt'].dt.day"
      ],
      "metadata": {
        "id": "4Jt1EyGVqbFF"
      },
      "execution_count": null,
      "outputs": []
    },
    {
      "cell_type": "code",
      "source": [
        "df.info()"
      ],
      "metadata": {
        "colab": {
          "base_uri": "https://localhost:8080/"
        },
        "id": "5x01m765qZUl",
        "outputId": "11f1868b-9425-4ae7-89ba-10cdf5173280"
      },
      "execution_count": null,
      "outputs": [
        {
          "output_type": "stream",
          "name": "stdout",
          "text": [
            "<class 'pandas.core.frame.DataFrame'>\n",
            "RangeIndex: 709556 entries, 0 to 709555\n",
            "Data columns (total 19 columns):\n",
            " #   Column                 Non-Null Count   Dtype         \n",
            "---  ------                 --------------   -----         \n",
            " 0   id                     709556 non-null  string        \n",
            " 1   lat                    709556 non-null  float64       \n",
            " 2   lon                    709556 non-null  float64       \n",
            " 3   data_hora_gmt          709556 non-null  datetime64[ns]\n",
            " 4   satelite               709556 non-null  string        \n",
            " 5   municipio              709556 non-null  string        \n",
            " 6   estado                 709556 non-null  string        \n",
            " 7   pais                   709556 non-null  string        \n",
            " 8   municipio_id           709556 non-null  int64         \n",
            " 9   estado_id              709556 non-null  int64         \n",
            " 10  pais_id                709556 non-null  int64         \n",
            " 11  numero_dias_sem_chuva  709556 non-null  int64         \n",
            " 12  precipitacao           709556 non-null  float64       \n",
            " 13  risco_fogo             709556 non-null  float64       \n",
            " 14  bioma                  709555 non-null  string        \n",
            " 15  frp                    698347 non-null  float64       \n",
            " 16  ano                    709556 non-null  int32         \n",
            " 17  mes                    709556 non-null  int32         \n",
            " 18  dia                    709556 non-null  int32         \n",
            "dtypes: datetime64[ns](1), float64(5), int32(3), int64(4), string(6)\n",
            "memory usage: 94.7 MB\n"
          ]
        }
      ]
    },
    {
      "cell_type": "code",
      "source": [
        "df.head(2)"
      ],
      "metadata": {
        "colab": {
          "base_uri": "https://localhost:8080/",
          "height": 236
        },
        "id": "aqtLQvFQqhZa",
        "outputId": "448a5d05-3fdd-4e59-92db-d5a74bb32dd3"
      },
      "execution_count": null,
      "outputs": [
        {
          "output_type": "execute_result",
          "data": {
            "text/plain": [
              "                                     id     lat      lon       data_hora_gmt  \\\n",
              "0  d3fd9911-d828-3228-9914-da431c1df183 -3.7637 -48.0287 2023-08-01 00:05:28   \n",
              "1  0347d6da-556a-3a3f-9e5a-c3844a8587a3 -5.8654 -45.5057 2023-08-01 00:05:39   \n",
              "\n",
              "  satelite    municipio    estado    pais  municipio_id  estado_id  pais_id  \\\n",
              "0  GOES-16  PARAGOMINAS      PARÁ  Brasil       1505502         15       33   \n",
              "1  GOES-16       GRAJAÚ  MARANHÃO  Brasil       2104800         21       33   \n",
              "\n",
              "   numero_dias_sem_chuva  precipitacao  risco_fogo     bioma    frp   ano  \\\n",
              "0                     43           0.0        1.00  Amazônia   96.6  2023   \n",
              "1                     75           0.0        0.98   Cerrado  587.0  2023   \n",
              "\n",
              "   mes  dia  \n",
              "0    8    1  \n",
              "1    8    1  "
            ],
            "text/html": [
              "\n",
              "  <div id=\"df-c661f50f-e20b-4d67-bc75-67681b484af1\" class=\"colab-df-container\">\n",
              "    <div>\n",
              "<style scoped>\n",
              "    .dataframe tbody tr th:only-of-type {\n",
              "        vertical-align: middle;\n",
              "    }\n",
              "\n",
              "    .dataframe tbody tr th {\n",
              "        vertical-align: top;\n",
              "    }\n",
              "\n",
              "    .dataframe thead th {\n",
              "        text-align: right;\n",
              "    }\n",
              "</style>\n",
              "<table border=\"1\" class=\"dataframe\">\n",
              "  <thead>\n",
              "    <tr style=\"text-align: right;\">\n",
              "      <th></th>\n",
              "      <th>id</th>\n",
              "      <th>lat</th>\n",
              "      <th>lon</th>\n",
              "      <th>data_hora_gmt</th>\n",
              "      <th>satelite</th>\n",
              "      <th>municipio</th>\n",
              "      <th>estado</th>\n",
              "      <th>pais</th>\n",
              "      <th>municipio_id</th>\n",
              "      <th>estado_id</th>\n",
              "      <th>pais_id</th>\n",
              "      <th>numero_dias_sem_chuva</th>\n",
              "      <th>precipitacao</th>\n",
              "      <th>risco_fogo</th>\n",
              "      <th>bioma</th>\n",
              "      <th>frp</th>\n",
              "      <th>ano</th>\n",
              "      <th>mes</th>\n",
              "      <th>dia</th>\n",
              "    </tr>\n",
              "  </thead>\n",
              "  <tbody>\n",
              "    <tr>\n",
              "      <th>0</th>\n",
              "      <td>d3fd9911-d828-3228-9914-da431c1df183</td>\n",
              "      <td>-3.7637</td>\n",
              "      <td>-48.0287</td>\n",
              "      <td>2023-08-01 00:05:28</td>\n",
              "      <td>GOES-16</td>\n",
              "      <td>PARAGOMINAS</td>\n",
              "      <td>PARÁ</td>\n",
              "      <td>Brasil</td>\n",
              "      <td>1505502</td>\n",
              "      <td>15</td>\n",
              "      <td>33</td>\n",
              "      <td>43</td>\n",
              "      <td>0.0</td>\n",
              "      <td>1.00</td>\n",
              "      <td>Amazônia</td>\n",
              "      <td>96.6</td>\n",
              "      <td>2023</td>\n",
              "      <td>8</td>\n",
              "      <td>1</td>\n",
              "    </tr>\n",
              "    <tr>\n",
              "      <th>1</th>\n",
              "      <td>0347d6da-556a-3a3f-9e5a-c3844a8587a3</td>\n",
              "      <td>-5.8654</td>\n",
              "      <td>-45.5057</td>\n",
              "      <td>2023-08-01 00:05:39</td>\n",
              "      <td>GOES-16</td>\n",
              "      <td>GRAJAÚ</td>\n",
              "      <td>MARANHÃO</td>\n",
              "      <td>Brasil</td>\n",
              "      <td>2104800</td>\n",
              "      <td>21</td>\n",
              "      <td>33</td>\n",
              "      <td>75</td>\n",
              "      <td>0.0</td>\n",
              "      <td>0.98</td>\n",
              "      <td>Cerrado</td>\n",
              "      <td>587.0</td>\n",
              "      <td>2023</td>\n",
              "      <td>8</td>\n",
              "      <td>1</td>\n",
              "    </tr>\n",
              "  </tbody>\n",
              "</table>\n",
              "</div>\n",
              "    <div class=\"colab-df-buttons\">\n",
              "\n",
              "  <div class=\"colab-df-container\">\n",
              "    <button class=\"colab-df-convert\" onclick=\"convertToInteractive('df-c661f50f-e20b-4d67-bc75-67681b484af1')\"\n",
              "            title=\"Convert this dataframe to an interactive table.\"\n",
              "            style=\"display:none;\">\n",
              "\n",
              "  <svg xmlns=\"http://www.w3.org/2000/svg\" height=\"24px\" viewBox=\"0 -960 960 960\">\n",
              "    <path d=\"M120-120v-720h720v720H120Zm60-500h600v-160H180v160Zm220 220h160v-160H400v160Zm0 220h160v-160H400v160ZM180-400h160v-160H180v160Zm440 0h160v-160H620v160ZM180-180h160v-160H180v160Zm440 0h160v-160H620v160Z\"/>\n",
              "  </svg>\n",
              "    </button>\n",
              "\n",
              "  <style>\n",
              "    .colab-df-container {\n",
              "      display:flex;\n",
              "      gap: 12px;\n",
              "    }\n",
              "\n",
              "    .colab-df-convert {\n",
              "      background-color: #E8F0FE;\n",
              "      border: none;\n",
              "      border-radius: 50%;\n",
              "      cursor: pointer;\n",
              "      display: none;\n",
              "      fill: #1967D2;\n",
              "      height: 32px;\n",
              "      padding: 0 0 0 0;\n",
              "      width: 32px;\n",
              "    }\n",
              "\n",
              "    .colab-df-convert:hover {\n",
              "      background-color: #E2EBFA;\n",
              "      box-shadow: 0px 1px 2px rgba(60, 64, 67, 0.3), 0px 1px 3px 1px rgba(60, 64, 67, 0.15);\n",
              "      fill: #174EA6;\n",
              "    }\n",
              "\n",
              "    .colab-df-buttons div {\n",
              "      margin-bottom: 4px;\n",
              "    }\n",
              "\n",
              "    [theme=dark] .colab-df-convert {\n",
              "      background-color: #3B4455;\n",
              "      fill: #D2E3FC;\n",
              "    }\n",
              "\n",
              "    [theme=dark] .colab-df-convert:hover {\n",
              "      background-color: #434B5C;\n",
              "      box-shadow: 0px 1px 3px 1px rgba(0, 0, 0, 0.15);\n",
              "      filter: drop-shadow(0px 1px 2px rgba(0, 0, 0, 0.3));\n",
              "      fill: #FFFFFF;\n",
              "    }\n",
              "  </style>\n",
              "\n",
              "    <script>\n",
              "      const buttonEl =\n",
              "        document.querySelector('#df-c661f50f-e20b-4d67-bc75-67681b484af1 button.colab-df-convert');\n",
              "      buttonEl.style.display =\n",
              "        google.colab.kernel.accessAllowed ? 'block' : 'none';\n",
              "\n",
              "      async function convertToInteractive(key) {\n",
              "        const element = document.querySelector('#df-c661f50f-e20b-4d67-bc75-67681b484af1');\n",
              "        const dataTable =\n",
              "          await google.colab.kernel.invokeFunction('convertToInteractive',\n",
              "                                                    [key], {});\n",
              "        if (!dataTable) return;\n",
              "\n",
              "        const docLinkHtml = 'Like what you see? Visit the ' +\n",
              "          '<a target=\"_blank\" href=https://colab.research.google.com/notebooks/data_table.ipynb>data table notebook</a>'\n",
              "          + ' to learn more about interactive tables.';\n",
              "        element.innerHTML = '';\n",
              "        dataTable['output_type'] = 'display_data';\n",
              "        await google.colab.output.renderOutput(dataTable, element);\n",
              "        const docLink = document.createElement('div');\n",
              "        docLink.innerHTML = docLinkHtml;\n",
              "        element.appendChild(docLink);\n",
              "      }\n",
              "    </script>\n",
              "  </div>\n",
              "\n",
              "\n",
              "<div id=\"df-7e4c4d41-547e-4844-8e45-1e5cc4c0a300\">\n",
              "  <button class=\"colab-df-quickchart\" onclick=\"quickchart('df-7e4c4d41-547e-4844-8e45-1e5cc4c0a300')\"\n",
              "            title=\"Suggest charts\"\n",
              "            style=\"display:none;\">\n",
              "\n",
              "<svg xmlns=\"http://www.w3.org/2000/svg\" height=\"24px\"viewBox=\"0 0 24 24\"\n",
              "     width=\"24px\">\n",
              "    <g>\n",
              "        <path d=\"M19 3H5c-1.1 0-2 .9-2 2v14c0 1.1.9 2 2 2h14c1.1 0 2-.9 2-2V5c0-1.1-.9-2-2-2zM9 17H7v-7h2v7zm4 0h-2V7h2v10zm4 0h-2v-4h2v4z\"/>\n",
              "    </g>\n",
              "</svg>\n",
              "  </button>\n",
              "\n",
              "<style>\n",
              "  .colab-df-quickchart {\n",
              "      --bg-color: #E8F0FE;\n",
              "      --fill-color: #1967D2;\n",
              "      --hover-bg-color: #E2EBFA;\n",
              "      --hover-fill-color: #174EA6;\n",
              "      --disabled-fill-color: #AAA;\n",
              "      --disabled-bg-color: #DDD;\n",
              "  }\n",
              "\n",
              "  [theme=dark] .colab-df-quickchart {\n",
              "      --bg-color: #3B4455;\n",
              "      --fill-color: #D2E3FC;\n",
              "      --hover-bg-color: #434B5C;\n",
              "      --hover-fill-color: #FFFFFF;\n",
              "      --disabled-bg-color: #3B4455;\n",
              "      --disabled-fill-color: #666;\n",
              "  }\n",
              "\n",
              "  .colab-df-quickchart {\n",
              "    background-color: var(--bg-color);\n",
              "    border: none;\n",
              "    border-radius: 50%;\n",
              "    cursor: pointer;\n",
              "    display: none;\n",
              "    fill: var(--fill-color);\n",
              "    height: 32px;\n",
              "    padding: 0;\n",
              "    width: 32px;\n",
              "  }\n",
              "\n",
              "  .colab-df-quickchart:hover {\n",
              "    background-color: var(--hover-bg-color);\n",
              "    box-shadow: 0 1px 2px rgba(60, 64, 67, 0.3), 0 1px 3px 1px rgba(60, 64, 67, 0.15);\n",
              "    fill: var(--button-hover-fill-color);\n",
              "  }\n",
              "\n",
              "  .colab-df-quickchart-complete:disabled,\n",
              "  .colab-df-quickchart-complete:disabled:hover {\n",
              "    background-color: var(--disabled-bg-color);\n",
              "    fill: var(--disabled-fill-color);\n",
              "    box-shadow: none;\n",
              "  }\n",
              "\n",
              "  .colab-df-spinner {\n",
              "    border: 2px solid var(--fill-color);\n",
              "    border-color: transparent;\n",
              "    border-bottom-color: var(--fill-color);\n",
              "    animation:\n",
              "      spin 1s steps(1) infinite;\n",
              "  }\n",
              "\n",
              "  @keyframes spin {\n",
              "    0% {\n",
              "      border-color: transparent;\n",
              "      border-bottom-color: var(--fill-color);\n",
              "      border-left-color: var(--fill-color);\n",
              "    }\n",
              "    20% {\n",
              "      border-color: transparent;\n",
              "      border-left-color: var(--fill-color);\n",
              "      border-top-color: var(--fill-color);\n",
              "    }\n",
              "    30% {\n",
              "      border-color: transparent;\n",
              "      border-left-color: var(--fill-color);\n",
              "      border-top-color: var(--fill-color);\n",
              "      border-right-color: var(--fill-color);\n",
              "    }\n",
              "    40% {\n",
              "      border-color: transparent;\n",
              "      border-right-color: var(--fill-color);\n",
              "      border-top-color: var(--fill-color);\n",
              "    }\n",
              "    60% {\n",
              "      border-color: transparent;\n",
              "      border-right-color: var(--fill-color);\n",
              "    }\n",
              "    80% {\n",
              "      border-color: transparent;\n",
              "      border-right-color: var(--fill-color);\n",
              "      border-bottom-color: var(--fill-color);\n",
              "    }\n",
              "    90% {\n",
              "      border-color: transparent;\n",
              "      border-bottom-color: var(--fill-color);\n",
              "    }\n",
              "  }\n",
              "</style>\n",
              "\n",
              "  <script>\n",
              "    async function quickchart(key) {\n",
              "      const quickchartButtonEl =\n",
              "        document.querySelector('#' + key + ' button');\n",
              "      quickchartButtonEl.disabled = true;  // To prevent multiple clicks.\n",
              "      quickchartButtonEl.classList.add('colab-df-spinner');\n",
              "      try {\n",
              "        const charts = await google.colab.kernel.invokeFunction(\n",
              "            'suggestCharts', [key], {});\n",
              "      } catch (error) {\n",
              "        console.error('Error during call to suggestCharts:', error);\n",
              "      }\n",
              "      quickchartButtonEl.classList.remove('colab-df-spinner');\n",
              "      quickchartButtonEl.classList.add('colab-df-quickchart-complete');\n",
              "    }\n",
              "    (() => {\n",
              "      let quickchartButtonEl =\n",
              "        document.querySelector('#df-7e4c4d41-547e-4844-8e45-1e5cc4c0a300 button');\n",
              "      quickchartButtonEl.style.display =\n",
              "        google.colab.kernel.accessAllowed ? 'block' : 'none';\n",
              "    })();\n",
              "  </script>\n",
              "</div>\n",
              "\n",
              "    </div>\n",
              "  </div>\n"
            ],
            "application/vnd.google.colaboratory.intrinsic+json": {
              "type": "dataframe",
              "variable_name": "df"
            }
          },
          "metadata": {},
          "execution_count": 20
        }
      ]
    },
    {
      "cell_type": "markdown",
      "source": [
        "FRP significa Potência Radiativa de Fogo. É uma medida da intensidade de um incêndio, obtida por satélites que detectam o calor emitido pelas chamas. Quanto maior o FRP, mais intenso o fogo. Essa informação é crucial para monitorar e combater incêndios florestais.\n",
        "\n",
        "Em resumo: o FRP é como um termômetro para incêndios, indicando a sua \"febre\"."
      ],
      "metadata": {
        "id": "O7ptFtWnPTaU"
      }
    },
    {
      "cell_type": "markdown",
      "source": [
        "# Carregamento de Dados SQLAchemy"
      ],
      "metadata": {
        "id": "Q8d8NDYFL9nW"
      }
    },
    {
      "cell_type": "code",
      "source": [
        "import sqlalchemy\n",
        "\n",
        "# criando engine do sqlalchemy\n",
        "engine = sqlalchemy.create_engine(\"sqlite:///meubanco.db\")"
      ],
      "metadata": {
        "id": "TnBhUXR0MAXN"
      },
      "execution_count": null,
      "outputs": []
    },
    {
      "cell_type": "code",
      "source": [
        "query_create_table = \"\"\"\n",
        "CREATE TABLE IF NOT EXISTS tabela_dados (\n",
        "    id VARCHAR(255),\n",
        "    lat FLOAT,\n",
        "    lon FLOAT,\n",
        "    data_hora_gmt TIMESTAMP,\n",
        "    satelite VARCHAR(255),\n",
        "    municipio VARCHAR(255),\n",
        "    estado VARCHAR(255),\n",
        "    pais VARCHAR(255),\n",
        "    municipio_id INT,\n",
        "    estado_id INT,\n",
        "    pais_id INT,\n",
        "    numero_dias_sem_chuva INT,\n",
        "    precipitacao FLOAT,\n",
        "    risco_fogo FLOAT,\n",
        "    bioma VARCHAR(255),\n",
        "    frp FLOAT,\n",
        "    ano INT,\n",
        "    mes INT,\n",
        "    dia INT\n",
        ");\n",
        "\"\"\""
      ],
      "metadata": {
        "id": "aciE7zULMEuL"
      },
      "execution_count": null,
      "outputs": []
    },
    {
      "cell_type": "code",
      "source": [
        "try:\n",
        "  # executar a query1 (CREATE TABLE)\n",
        "  engine.raw_connection().cursor().execute(query_create_table)\n",
        "except:\n",
        "  print(\"Tabela já existe\")"
      ],
      "metadata": {
        "id": "I2-eZ_5dMWxt"
      },
      "execution_count": null,
      "outputs": []
    },
    {
      "cell_type": "code",
      "source": [
        "engine.raw_connection().cursor().execute(query_create_table)"
      ],
      "metadata": {
        "colab": {
          "base_uri": "https://localhost:8080/"
        },
        "id": "KAO3vwfyV9PW",
        "outputId": "5337b02c-8717-43e6-ec24-ffecbb6ee2f5"
      },
      "execution_count": null,
      "outputs": [
        {
          "output_type": "execute_result",
          "data": {
            "text/plain": [
              "<sqlite3.Cursor at 0x7e63f97cc540>"
            ]
          },
          "metadata": {},
          "execution_count": 24
        }
      ]
    },
    {
      "cell_type": "markdown",
      "source": [
        "## INSERT"
      ],
      "metadata": {
        "id": "cro2N9IjMbj9"
      }
    },
    {
      "cell_type": "code",
      "source": [
        "# INSERT em 'tabela_dados'\n",
        "# ( colunas )\n",
        "# VALUES (?)\n",
        "insert_query = \"\"\"\n",
        "INSERT INTO tabela_dados\n",
        "  (\n",
        "    id,\n",
        "    lat,\n",
        "    lon,\n",
        "    data_hora_gmt,\n",
        "    satelite,\n",
        "    municipio,\n",
        "    estado,\n",
        "    pais,\n",
        "    municipio_id,\n",
        "    estado_id,\n",
        "    pais_id,\n",
        "    numero_dias_sem_chuva,\n",
        "    precipitacao,\n",
        "    risco_fogo,\n",
        "    bioma,\n",
        "    frp,\n",
        "    ano,\n",
        "    mes,\n",
        "    dia\n",
        "  )\n",
        "VALUES (?, ?, ?, ?, ?, ?, ?, ?, ?, ?, ?, ?, ?, ?, ?, ?, ?, ?, ?)\n",
        "\"\"\"\n",
        "\n",
        "# df = origem = dados extraídos\n",
        "# df para sql, na tabela de nome 'tabela_dados'\n",
        "r = df.head(50).to_sql('tabela_dados',\n",
        "          engine,\n",
        "          if_exists='append', # se tabela já existir, realizar append\n",
        "          index=False, # quer salvar o índice do dataframe pandas como coluna?\n",
        "          method='multi', # 'multi' : passe multiplos valores em uma unica clausula INSERT\n",
        "          )\n",
        "\n",
        "\n",
        "if r:\n",
        "  print(\"Dados inseridos com sucesso\")\n",
        "  print(f\"{r} linhas foram adicionadas\")\n",
        "else:\n",
        "  print(\"Erro ao inserir dados\")"
      ],
      "metadata": {
        "colab": {
          "base_uri": "https://localhost:8080/"
        },
        "id": "DWRobZR8MdgN",
        "outputId": "7186a676-23ba-4fca-88be-db29e9fda328"
      },
      "execution_count": null,
      "outputs": [
        {
          "output_type": "stream",
          "name": "stdout",
          "text": [
            "Dados inseridos com sucesso\n",
            "50 linhas foram adicionadas\n"
          ]
        }
      ]
    },
    {
      "cell_type": "markdown",
      "source": [
        "# SQLAlchemy (delete & dispose)"
      ],
      "metadata": {
        "id": "Nt8Uhjf6v6oH"
      }
    },
    {
      "cell_type": "code",
      "source": [
        "delete_query = \"DROP TABLE tabela_dados\"\n",
        "\n",
        "# deleta a tabela\n",
        "engine.raw_connection().cursor().execute(delete_query)"
      ],
      "metadata": {
        "colab": {
          "base_uri": "https://localhost:8080/"
        },
        "id": "xrXxAW98v4Fn",
        "outputId": "c8f65270-7a8a-4f36-8501-85ad457ba595"
      },
      "execution_count": null,
      "outputs": [
        {
          "output_type": "execute_result",
          "data": {
            "text/plain": [
              "<sqlite3.Cursor at 0x7e63f97ce0c0>"
            ]
          },
          "metadata": {},
          "execution_count": 26
        }
      ]
    },
    {
      "cell_type": "markdown",
      "source": [
        "# Mais arquivos (replicando em funções)"
      ],
      "metadata": {
        "id": "CmS55DBlu8Wy"
      }
    },
    {
      "cell_type": "code",
      "source": [
        "import os\n",
        "import pandas as pd\n",
        "\n",
        "def processo_etl(nome_arquivo:str):\n",
        "############################## INGESTÃO DE DADOS ############\n",
        "\n",
        "  # criar pasta input\n",
        "  try:\n",
        "    os.makedirs('input')\n",
        "  except FileExistsError:\n",
        "    pass\n",
        "\n",
        "  # inicia ingestão\n",
        "\n",
        "  df = pd.read_csv(\"input/\"+nome_arquivo)\n",
        "\n",
        "############################## TRANSFORMAÇÃO DE DADOS ############\n",
        "\n",
        "  df['id'] = df['id'].astype('string')\n",
        "  df['satelite'] = df['satelite'].astype('string')\n",
        "  df['municipio'] = df['municipio'].astype('string')\n",
        "  df['estado'] = df['estado'].astype('string')\n",
        "  df['pais'] = df['pais'].astype('string')\n",
        "  df['bioma'] = df['bioma'].astype('string')\n",
        "\n",
        "  df['data_hora_gmt'] = pd.to_datetime(df['data_hora_gmt'])\n",
        "\n",
        "  df['ano'] = df['data_hora_gmt'].dt.year\n",
        "  df['mes'] = df['data_hora_gmt'].dt.month\n",
        "  df['dia'] = df['data_hora_gmt'].dt.day\n",
        "\n",
        "############################## CARREGAMENTO DE DADOS SQLALCHEMY ############\n",
        "  # Ingestão no SQL Alchemy\n",
        "\n",
        "  # criando engine do sqlalchemy\n",
        "  engine = sqlalchemy.create_engine(\"sqlite:///meubanco.db\")\n",
        "\n",
        "\n",
        "  try:\n",
        "    # executar a query1 (CREATE TABLE)\n",
        "    engine.raw_connection().cursor().execute(query_create_table)\n",
        "  except:\n",
        "    print(\"Tabela já existe\")\n",
        "\n",
        "  # df = origem = dados extraídos\n",
        "  # df para sql, na tabela de nome 'tabela_dados'\n",
        "  r = df.head(50).to_sql('tabela_dados',\n",
        "          engine,\n",
        "          if_exists='append', # se tabela já existir, realizar append\n",
        "          index=False, # quer salvar o índice do dataframe pandas como coluna?\n",
        "          method='multi', # 'multi' : passe multiplos valores em uma unica clausula INSERT\n",
        "          )\n",
        "\n",
        "  # deletar nome_arquivo da pasta input\n",
        "  # os.remove(f'input/{nome_arquivo}')\n",
        "\n",
        "  if r:\n",
        "    print(\"Dados inseridos com sucesso\")\n",
        "    print(f\"{r} linhas foram adicionadas\")\n",
        "  else:\n",
        "    print(\"Erro ao inserir dados\")\n",
        "\n",
        "  return \"finalizado com sucesso\""
      ],
      "metadata": {
        "id": "5Hm3lOPG1nfQ"
      },
      "execution_count": null,
      "outputs": []
    },
    {
      "cell_type": "code",
      "source": [
        "print(\"Iniciando processo de ETL\")\n",
        "\n",
        "for arquivo in os.listdir('input'):\n",
        "  print(f\"arquivo encontrado com nome {arquivo}\")\n",
        "\n",
        "  print(\"processar arquivo...\")\n",
        "  r = processo_etl(\n",
        "      nome_arquivo = arquivo\n",
        "      )\n",
        "\n",
        "  print(\"resultados do processamento:\")\n",
        "\n",
        "  print(r)"
      ],
      "metadata": {
        "id": "WK0jaAxtZwna",
        "colab": {
          "base_uri": "https://localhost:8080/"
        },
        "outputId": "cb23531d-777c-4823-e7ca-28b9bfda8933"
      },
      "execution_count": null,
      "outputs": [
        {
          "output_type": "stream",
          "name": "stdout",
          "text": [
            "Iniciando processo de ETL\n",
            "arquivo encontrado com nome focos_mensal_br_202408.csv\n",
            "processar arquivo...\n",
            "Dados inseridos com sucesso\n",
            "50 linhas foram adicionadas\n",
            "resultados do processamento:\n",
            "finalizado com sucesso\n",
            "arquivo encontrado com nome focos_mensal_br_202308.csv\n",
            "processar arquivo...\n",
            "Dados inseridos com sucesso\n",
            "50 linhas foram adicionadas\n",
            "resultados do processamento:\n",
            "finalizado com sucesso\n"
          ]
        }
      ]
    },
    {
      "cell_type": "markdown",
      "source": [
        "# SQLAlchemy (delete & dispose)"
      ],
      "metadata": {
        "id": "9E2PkLfvNO39"
      }
    },
    {
      "cell_type": "code",
      "source": [
        "delete_query = \"DROP TABLE tabela_dados\"\n",
        "\n",
        "# deleta a tabela\n",
        "engine.raw_connection().cursor().execute(delete_query)"
      ],
      "metadata": {
        "colab": {
          "base_uri": "https://localhost:8080/"
        },
        "id": "CnBryUAUNRJ4",
        "outputId": "8d1c9247-e398-4861-aad4-19c897500a4c"
      },
      "execution_count": null,
      "outputs": [
        {
          "output_type": "execute_result",
          "data": {
            "text/plain": [
              "<sqlite3.Cursor at 0x7e63e44ec440>"
            ]
          },
          "metadata": {},
          "execution_count": 29
        }
      ]
    },
    {
      "cell_type": "code",
      "source": [
        "engine.dispose()"
      ],
      "metadata": {
        "id": "lJUXUjBHNTpk"
      },
      "execution_count": null,
      "outputs": []
    }
  ]
}